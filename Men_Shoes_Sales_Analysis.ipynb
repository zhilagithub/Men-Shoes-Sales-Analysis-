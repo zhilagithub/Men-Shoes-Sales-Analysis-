{
 "cells": [
  {
   "cell_type": "markdown",
   "id": "706204b9",
   "metadata": {},
   "source": [
    "# Introduction\n",
    "\"\"\"\n",
    "Project Overview:\n",
    "This project aims to analyze a large dataset of men's shoes to uncover trends, opportunities, and insights.\n",
    "Advanced statistical techniques and machine learning models are applied to support data-driven decision-making.\n",
    "\n",
    "Objectives:\n",
    "1. Analyze sales data to identify trends and key performance metrics.\n",
    "2. Develop predictive models to forecast sales and optimize pricing strategies.\n",
    "3. Provide actionable recommendations for marketing, inventory, and pricing strategies.\n",
    "\n",
    "Steps Taken:\n",
    "1. Data Collection and Preparation:\n",
    "   - Loaded the dataset and performed data cleaning and preprocessing.\n",
    "   - Handled missing values and encoded categorical variables.\n",
    "\n",
    "2. Exploratory Data Analysis (EDA):\n",
    "   - Conducted descriptive analysis to understand data distributions.\n",
    "   - Created visualizations to identify trends and patterns.\n",
    "\n",
    "3. Regression Analysis:\n",
    "   - Applied multiple regression models (Linear Regression, Random Forest, Gradient Boosting) to predict sales.\n",
    "   - Evaluated model performance using Mean Squared Error (MSE) and R-squared metrics.\n",
    "\n",
    "4. Pricing Strategy:\n",
    "   - Added columns for 'Predicted_Sales' and 'Pricing_Strategy' based on model predictions.\n",
    "   - Compared the effectiveness of different pricing strategies.\n",
    "\n",
    "Conclusion:\n",
    "- By analyzing the table, we can determine which products are expected to perform better (High pricing strategy).\n",
    "- Adjust marketing, inventory, and pricing strategies accordingly to maximize revenue and manage resources efficiently.\n",
    "\n",
    "\"\"\"\n"
   ]
  },
  {
   "cell_type": "code",
   "execution_count": 336,
   "id": "6d1afe82",
   "metadata": {},
   "outputs": [
    {
     "name": "stdout",
     "output_type": "stream",
     "text": [
      "Requirement already satisfied: xgboost in ./anaconda3/lib/python3.10/site-packages (2.0.3)\r\n",
      "Requirement already satisfied: scipy in ./anaconda3/lib/python3.10/site-packages (from xgboost) (1.11.4)\r\n",
      "Requirement already satisfied: numpy in ./anaconda3/lib/python3.10/site-packages (from xgboost) (1.26.4)\r\n"
     ]
    }
   ],
   "source": [
    "import pandas as pd\n",
    "import numpy as np\n",
    "import matplotlib.pyplot as plt\n",
    "import seaborn as sns\n",
    "\n",
    "from sklearn.ensemble import GradientBoostingRegressor\n",
    "from sklearn.linear_model import LinearRegression\n",
    "from sklearn.model_selection import train_test_split\n",
    "from sklearn.metrics import mean_squared_error, r2_score\n",
    "from xgboost import XGBRegressor\n",
    "\n",
    "\n",
    "!pip install xgboost"
   ]
  },
  {
   "cell_type": "code",
   "execution_count": 298,
   "id": "a8f963a4",
   "metadata": {},
   "outputs": [
    {
     "data": {
      "text/html": [
       "<div>\n",
       "<style scoped>\n",
       "    .dataframe tbody tr th:only-of-type {\n",
       "        vertical-align: middle;\n",
       "    }\n",
       "\n",
       "    .dataframe tbody tr th {\n",
       "        vertical-align: top;\n",
       "    }\n",
       "\n",
       "    .dataframe thead th {\n",
       "        text-align: right;\n",
       "    }\n",
       "</style>\n",
       "<table border=\"1\" class=\"dataframe\">\n",
       "  <thead>\n",
       "    <tr style=\"text-align: right;\">\n",
       "      <th></th>\n",
       "      <th>Brand_Name</th>\n",
       "      <th>How_Many_Sold</th>\n",
       "      <th>Current_Price</th>\n",
       "      <th>Product_details</th>\n",
       "      <th>RATING</th>\n",
       "    </tr>\n",
       "  </thead>\n",
       "  <tbody>\n",
       "    <tr>\n",
       "      <th>0</th>\n",
       "      <td>ASIAN</td>\n",
       "      <td>2,242</td>\n",
       "      <td>₹1,098</td>\n",
       "      <td>Oxygen-01 Sports Running,Walking &amp; Gym Shoes w...</td>\n",
       "      <td>3.8</td>\n",
       "    </tr>\n",
       "    <tr>\n",
       "      <th>1</th>\n",
       "      <td>ASIAN</td>\n",
       "      <td>240</td>\n",
       "      <td>₹674</td>\n",
       "      <td>Men's Express-08 Sports Running,Walking,Gym,Tr...</td>\n",
       "      <td>4.0</td>\n",
       "    </tr>\n",
       "    <tr>\n",
       "      <th>2</th>\n",
       "      <td>ASIAN</td>\n",
       "      <td>16,662</td>\n",
       "      <td>₹588</td>\n",
       "      <td>Men's Cosko Sports Running,Walking,Gym,Trainin...</td>\n",
       "      <td>3.8</td>\n",
       "    </tr>\n",
       "    <tr>\n",
       "      <th>3</th>\n",
       "      <td>ASIAN</td>\n",
       "      <td>135</td>\n",
       "      <td>₹599</td>\n",
       "      <td>Wind-03 Sports Running,Walking &amp; Gym Shoes wit...</td>\n",
       "      <td>4.0</td>\n",
       "    </tr>\n",
       "    <tr>\n",
       "      <th>4</th>\n",
       "      <td>Reebok</td>\n",
       "      <td>240</td>\n",
       "      <td>₹982</td>\n",
       "      <td>Men's Velocity Runner Lp Running Shoe</td>\n",
       "      <td>4.0</td>\n",
       "    </tr>\n",
       "  </tbody>\n",
       "</table>\n",
       "</div>"
      ],
      "text/plain": [
       "  Brand_Name How_Many_Sold Current_Price  \\\n",
       "0      ASIAN         2,242        ₹1,098   \n",
       "1      ASIAN           240          ₹674   \n",
       "2      ASIAN        16,662          ₹588   \n",
       "3      ASIAN           135          ₹599   \n",
       "4     Reebok           240          ₹982   \n",
       "\n",
       "                                     Product_details  RATING  \n",
       "0  Oxygen-01 Sports Running,Walking & Gym Shoes w...     3.8  \n",
       "1  Men's Express-08 Sports Running,Walking,Gym,Tr...     4.0  \n",
       "2  Men's Cosko Sports Running,Walking,Gym,Trainin...     3.8  \n",
       "3  Wind-03 Sports Running,Walking & Gym Shoes wit...     4.0  \n",
       "4            Men's Velocity Runner Lp Running Shoe       4.0  "
      ]
     },
     "execution_count": 298,
     "metadata": {},
     "output_type": "execute_result"
    }
   ],
   "source": [
    "\n",
    "######    Data Collection and Preparation ##########\n",
    "\n",
    "\n",
    "data = pd.read_csv(\"MEN_SHOES.csv\")\n",
    "\n",
    "data.head()"
   ]
  },
  {
   "cell_type": "code",
   "execution_count": 299,
   "id": "459b3389",
   "metadata": {},
   "outputs": [
    {
     "data": {
      "text/html": [
       "<div>\n",
       "<style scoped>\n",
       "    .dataframe tbody tr th:only-of-type {\n",
       "        vertical-align: middle;\n",
       "    }\n",
       "\n",
       "    .dataframe tbody tr th {\n",
       "        vertical-align: top;\n",
       "    }\n",
       "\n",
       "    .dataframe thead th {\n",
       "        text-align: right;\n",
       "    }\n",
       "</style>\n",
       "<table border=\"1\" class=\"dataframe\">\n",
       "  <thead>\n",
       "    <tr style=\"text-align: right;\">\n",
       "      <th></th>\n",
       "      <th>RATING</th>\n",
       "    </tr>\n",
       "  </thead>\n",
       "  <tbody>\n",
       "    <tr>\n",
       "      <th>count</th>\n",
       "      <td>23940.000000</td>\n",
       "    </tr>\n",
       "    <tr>\n",
       "      <th>mean</th>\n",
       "      <td>3.836667</td>\n",
       "    </tr>\n",
       "    <tr>\n",
       "      <th>std</th>\n",
       "      <td>0.410686</td>\n",
       "    </tr>\n",
       "    <tr>\n",
       "      <th>min</th>\n",
       "      <td>2.400000</td>\n",
       "    </tr>\n",
       "    <tr>\n",
       "      <th>25%</th>\n",
       "      <td>3.600000</td>\n",
       "    </tr>\n",
       "    <tr>\n",
       "      <th>50%</th>\n",
       "      <td>4.000000</td>\n",
       "    </tr>\n",
       "    <tr>\n",
       "      <th>75%</th>\n",
       "      <td>4.000000</td>\n",
       "    </tr>\n",
       "    <tr>\n",
       "      <th>max</th>\n",
       "      <td>4.600000</td>\n",
       "    </tr>\n",
       "  </tbody>\n",
       "</table>\n",
       "</div>"
      ],
      "text/plain": [
       "             RATING\n",
       "count  23940.000000\n",
       "mean       3.836667\n",
       "std        0.410686\n",
       "min        2.400000\n",
       "25%        3.600000\n",
       "50%        4.000000\n",
       "75%        4.000000\n",
       "max        4.600000"
      ]
     },
     "execution_count": 299,
     "metadata": {},
     "output_type": "execute_result"
    }
   ],
   "source": [
    "data.describe()"
   ]
  },
  {
   "cell_type": "code",
   "execution_count": 300,
   "id": "213c3acb",
   "metadata": {},
   "outputs": [
    {
     "name": "stdout",
     "output_type": "stream",
     "text": [
      "<class 'pandas.core.frame.DataFrame'>\n",
      "RangeIndex: 23940 entries, 0 to 23939\n",
      "Data columns (total 5 columns):\n",
      " #   Column           Non-Null Count  Dtype  \n",
      "---  ------           --------------  -----  \n",
      " 0   Brand_Name       23940 non-null  object \n",
      " 1   How_Many_Sold    23940 non-null  object \n",
      " 2   Current_Price    23142 non-null  object \n",
      " 3   Product_details  23940 non-null  object \n",
      " 4   RATING           23940 non-null  float64\n",
      "dtypes: float64(1), object(4)\n",
      "memory usage: 935.3+ KB\n"
     ]
    }
   ],
   "source": [
    "data.info()"
   ]
  },
  {
   "cell_type": "code",
   "execution_count": 301,
   "id": "928f782a",
   "metadata": {},
   "outputs": [
    {
     "data": {
      "text/plain": [
       "(23940, 5)"
      ]
     },
     "execution_count": 301,
     "metadata": {},
     "output_type": "execute_result"
    }
   ],
   "source": [
    "data.shape"
   ]
  },
  {
   "cell_type": "code",
   "execution_count": 302,
   "id": "58135fae",
   "metadata": {
    "scrolled": true
   },
   "outputs": [
    {
     "data": {
      "text/plain": [
       "Brand_Name           0\n",
       "How_Many_Sold        0\n",
       "Current_Price      798\n",
       "Product_details      0\n",
       "RATING               0\n",
       "dtype: int64"
      ]
     },
     "execution_count": 302,
     "metadata": {},
     "output_type": "execute_result"
    }
   ],
   "source": [
    "# Finding missing values \n",
    "\n",
    "data.isnull().sum()"
   ]
  },
  {
   "cell_type": "code",
   "execution_count": 313,
   "id": "dde4620b",
   "metadata": {
    "scrolled": true
   },
   "outputs": [
    {
     "name": "stderr",
     "output_type": "stream",
     "text": [
      "/var/folders/yk/bhn8qs_94hb7nj2wx3cvz1y00000gn/T/ipykernel_42102/328502353.py:2: FutureWarning: A value is trying to be set on a copy of a DataFrame or Series through chained assignment using an inplace method.\n",
      "The behavior will change in pandas 3.0. This inplace method will never work because the intermediate object on which we are setting values always behaves as a copy.\n",
      "\n",
      "For example, when doing 'df[col].method(value, inplace=True)', try using 'df.method({col: value}, inplace=True)' or df[col] = df[col].method(value) instead, to perform the operation inplace on the original object.\n",
      "\n",
      "\n",
      "  data['Current_Price'].fillna(data['Current_Price'].median(), inplace=True)\n"
     ]
    }
   ],
   "source": [
    "# Handle missing values by filling with median\n",
    "data['Current_Price'].fillna(data['Current_Price'].median(), inplace=True)\n"
   ]
  },
  {
   "cell_type": "code",
   "execution_count": 249,
   "id": "aec6d9fe",
   "metadata": {},
   "outputs": [
    {
     "data": {
      "text/plain": [
       "Brand_Name          object\n",
       "How_Many_Sold       object\n",
       "Current_Price       object\n",
       "Product_details     object\n",
       "RATING             float64\n",
       "dtype: object"
      ]
     },
     "execution_count": 249,
     "metadata": {},
     "output_type": "execute_result"
    }
   ],
   "source": [
    "data.dtypes"
   ]
  },
  {
   "cell_type": "code",
   "execution_count": 303,
   "id": "67f0383d",
   "metadata": {},
   "outputs": [
    {
     "data": {
      "text/plain": [
       "Index(['Brand_Name', 'How_Many_Sold', 'Current_Price', 'Product_details',\n",
       "       'RATING'],\n",
       "      dtype='object')"
      ]
     },
     "execution_count": 303,
     "metadata": {},
     "output_type": "execute_result"
    }
   ],
   "source": [
    "column_names = data.columns\n",
    "column_names"
   ]
  },
  {
   "cell_type": "code",
   "execution_count": 304,
   "id": "d5bc2388",
   "metadata": {},
   "outputs": [
    {
     "name": "stdout",
     "output_type": "stream",
     "text": [
      "None\n"
     ]
    }
   ],
   "source": [
    "# Handle duplicates\n",
    "\n",
    "print(data.drop_duplicates(inplace=True))"
   ]
  },
  {
   "cell_type": "code",
   "execution_count": 305,
   "id": "7a09b7b3",
   "metadata": {
    "scrolled": true
   },
   "outputs": [
    {
     "name": "stdout",
     "output_type": "stream",
     "text": [
      "Categorical Variables:\n",
      "['Brand_Name', 'How_Many_Sold', 'Current_Price', 'Product_details']\n"
     ]
    }
   ],
   "source": [
    "# Identify categorical variables\n",
    "\n",
    "categorical_variables = data.select_dtypes(include=['object']).columns.tolist()\n",
    "\n",
    "# Print the list of categorical variables\n",
    "\n",
    "print(\"Categorical Variables:\")\n",
    "print(categorical_variables)"
   ]
  },
  {
   "cell_type": "code",
   "execution_count": 306,
   "id": "61569a4e",
   "metadata": {},
   "outputs": [],
   "source": [
    "\n",
    "#Encoding categorical variables\n",
    "data_encoded = pd.get_dummies(data, columns=categorical_variables, drop_first=True)\n"
   ]
  },
  {
   "cell_type": "code",
   "execution_count": null,
   "id": "40edfc85",
   "metadata": {},
   "outputs": [],
   "source": []
  },
  {
   "cell_type": "code",
   "execution_count": 307,
   "id": "4308bd7d",
   "metadata": {},
   "outputs": [
    {
     "name": "stdout",
     "output_type": "stream",
     "text": [
      "Numerical Variables:\n",
      "['RATING']\n"
     ]
    }
   ],
   "source": [
    "# Identify numerical variables\n",
    "\n",
    "numeric_variables = data.select_dtypes(include=['int64', 'float64']).columns.tolist()\n",
    "\n",
    "# Print the list of numerical variables\n",
    "\n",
    "print(\"Numerical Variables:\")\n",
    "print(numeric_variables)"
   ]
  },
  {
   "cell_type": "code",
   "execution_count": 308,
   "id": "7d040477",
   "metadata": {},
   "outputs": [],
   "source": [
    "\n",
    "\n",
    "# Convert 'How_Many_Sold' to numeric, remove commas\n",
    "\n",
    "data['How_Many_Sold'] = pd.to_numeric(data['How_Many_Sold'].str.replace(',', ''), errors='coerce')\n",
    "\n"
   ]
  },
  {
   "cell_type": "code",
   "execution_count": 201,
   "id": "b0ca2a68",
   "metadata": {
    "scrolled": true
   },
   "outputs": [
    {
     "name": "stderr",
     "output_type": "stream",
     "text": [
      "/var/folders/yk/bhn8qs_94hb7nj2wx3cvz1y00000gn/T/ipykernel_42102/2827074884.py:3: FutureWarning: A value is trying to be set on a copy of a DataFrame or Series through chained assignment using an inplace method.\n",
      "The behavior will change in pandas 3.0. This inplace method will never work because the intermediate object on which we are setting values always behaves as a copy.\n",
      "\n",
      "For example, when doing 'df[col].method(value, inplace=True)', try using 'df.method({col: value}, inplace=True)' or df[col] = df[col].method(value) instead, to perform the operation inplace on the original object.\n",
      "\n",
      "\n",
      "  data['How_Many_Sold'].fillna(0, inplace=True)\n"
     ]
    }
   ],
   "source": [
    "# Ensure no remaining non-numeric values in 'How_Many_Sold'\n",
    "\n",
    "data['How_Many_Sold'].fillna(0, inplace=True)"
   ]
  },
  {
   "cell_type": "code",
   "execution_count": 309,
   "id": "7f050f0c",
   "metadata": {},
   "outputs": [
    {
     "name": "stderr",
     "output_type": "stream",
     "text": [
      "/var/folders/yk/bhn8qs_94hb7nj2wx3cvz1y00000gn/T/ipykernel_42102/554288358.py:3: FutureWarning: A value is trying to be set on a copy of a DataFrame or Series through chained assignment using an inplace method.\n",
      "The behavior will change in pandas 3.0. This inplace method will never work because the intermediate object on which we are setting values always behaves as a copy.\n",
      "\n",
      "For example, when doing 'df[col].method(value, inplace=True)', try using 'df.method({col: value}, inplace=True)' or df[col] = df[col].method(value) instead, to perform the operation inplace on the original object.\n",
      "\n",
      "\n",
      "  data['How_Many_Sold'].fillna(0, inplace=True)\n"
     ]
    }
   ],
   "source": [
    "# Ensure no remaining non-numeric values in 'How_Many_Sold'\n",
    "\n",
    "data['How_Many_Sold'].fillna(0, inplace=True)\n",
    "\n"
   ]
  },
  {
   "cell_type": "code",
   "execution_count": 310,
   "id": "3eae7e6d",
   "metadata": {},
   "outputs": [],
   "source": [
    "#Convert 'Current_Price' to numeric, remove '₹' symbol and commas\n",
    "\n",
    "data['Current_Price'] = pd.to_numeric(data['Current_Price'].str.replace('₹', '').str.replace(',', ''), errors='coerce')\n"
   ]
  },
  {
   "cell_type": "code",
   "execution_count": 311,
   "id": "192df220",
   "metadata": {},
   "outputs": [],
   "source": [
    "# Ensure correct data types for'RATING'\n",
    "\n",
    "data['RATING'] = pd.to_numeric(data['RATING'], errors='coerce')\n"
   ]
  },
  {
   "cell_type": "code",
   "execution_count": 312,
   "id": "3fcbfffa",
   "metadata": {},
   "outputs": [
    {
     "data": {
      "text/plain": [
       "Brand_Name         0\n",
       "How_Many_Sold      0\n",
       "Current_Price      2\n",
       "Product_details    0\n",
       "RATING             0\n",
       "dtype: int64"
      ]
     },
     "execution_count": 312,
     "metadata": {},
     "output_type": "execute_result"
    }
   ],
   "source": [
    "# Finding missing values \n",
    "\n",
    "#data.isnull().sum()"
   ]
  },
  {
   "cell_type": "code",
   "execution_count": 260,
   "id": "a4d637a2",
   "metadata": {
    "scrolled": true
   },
   "outputs": [
    {
     "name": "stderr",
     "output_type": "stream",
     "text": [
      "/var/folders/yk/bhn8qs_94hb7nj2wx3cvz1y00000gn/T/ipykernel_42102/328502353.py:2: FutureWarning: A value is trying to be set on a copy of a DataFrame or Series through chained assignment using an inplace method.\n",
      "The behavior will change in pandas 3.0. This inplace method will never work because the intermediate object on which we are setting values always behaves as a copy.\n",
      "\n",
      "For example, when doing 'df[col].method(value, inplace=True)', try using 'df.method({col: value}, inplace=True)' or df[col] = df[col].method(value) instead, to perform the operation inplace on the original object.\n",
      "\n",
      "\n",
      "  data['Current_Price'].fillna(data['Current_Price'].median(), inplace=True)\n"
     ]
    }
   ],
   "source": [
    "# Handle missing values by filling with median\n",
    "#data['Current_Price'].fillna(data['Current_Price'].median(), inplace=True)\n"
   ]
  },
  {
   "cell_type": "code",
   "execution_count": 261,
   "id": "85ef9d2b",
   "metadata": {},
   "outputs": [
    {
     "data": {
      "text/html": [
       "<div>\n",
       "<style scoped>\n",
       "    .dataframe tbody tr th:only-of-type {\n",
       "        vertical-align: middle;\n",
       "    }\n",
       "\n",
       "    .dataframe tbody tr th {\n",
       "        vertical-align: top;\n",
       "    }\n",
       "\n",
       "    .dataframe thead th {\n",
       "        text-align: right;\n",
       "    }\n",
       "</style>\n",
       "<table border=\"1\" class=\"dataframe\">\n",
       "  <thead>\n",
       "    <tr style=\"text-align: right;\">\n",
       "      <th></th>\n",
       "      <th>Brand_Name</th>\n",
       "      <th>How_Many_Sold</th>\n",
       "      <th>Current_Price</th>\n",
       "      <th>Product_details</th>\n",
       "      <th>RATING</th>\n",
       "    </tr>\n",
       "  </thead>\n",
       "  <tbody>\n",
       "    <tr>\n",
       "      <th>0</th>\n",
       "      <td>ASIAN</td>\n",
       "      <td>2242</td>\n",
       "      <td>1098.0</td>\n",
       "      <td>Oxygen-01 Sports Running,Walking &amp; Gym Shoes w...</td>\n",
       "      <td>3.8</td>\n",
       "    </tr>\n",
       "    <tr>\n",
       "      <th>1</th>\n",
       "      <td>ASIAN</td>\n",
       "      <td>240</td>\n",
       "      <td>674.0</td>\n",
       "      <td>Men's Express-08 Sports Running,Walking,Gym,Tr...</td>\n",
       "      <td>4.0</td>\n",
       "    </tr>\n",
       "    <tr>\n",
       "      <th>2</th>\n",
       "      <td>ASIAN</td>\n",
       "      <td>16662</td>\n",
       "      <td>588.0</td>\n",
       "      <td>Men's Cosko Sports Running,Walking,Gym,Trainin...</td>\n",
       "      <td>3.8</td>\n",
       "    </tr>\n",
       "    <tr>\n",
       "      <th>3</th>\n",
       "      <td>ASIAN</td>\n",
       "      <td>135</td>\n",
       "      <td>599.0</td>\n",
       "      <td>Wind-03 Sports Running,Walking &amp; Gym Shoes wit...</td>\n",
       "      <td>4.0</td>\n",
       "    </tr>\n",
       "    <tr>\n",
       "      <th>4</th>\n",
       "      <td>Reebok</td>\n",
       "      <td>240</td>\n",
       "      <td>982.0</td>\n",
       "      <td>Men's Velocity Runner Lp Running Shoe</td>\n",
       "      <td>4.0</td>\n",
       "    </tr>\n",
       "  </tbody>\n",
       "</table>\n",
       "</div>"
      ],
      "text/plain": [
       "  Brand_Name  How_Many_Sold  Current_Price  \\\n",
       "0      ASIAN           2242         1098.0   \n",
       "1      ASIAN            240          674.0   \n",
       "2      ASIAN          16662          588.0   \n",
       "3      ASIAN            135          599.0   \n",
       "4     Reebok            240          982.0   \n",
       "\n",
       "                                     Product_details  RATING  \n",
       "0  Oxygen-01 Sports Running,Walking & Gym Shoes w...     3.8  \n",
       "1  Men's Express-08 Sports Running,Walking,Gym,Tr...     4.0  \n",
       "2  Men's Cosko Sports Running,Walking,Gym,Trainin...     3.8  \n",
       "3  Wind-03 Sports Running,Walking & Gym Shoes wit...     4.0  \n",
       "4            Men's Velocity Runner Lp Running Shoe       4.0  "
      ]
     },
     "execution_count": 261,
     "metadata": {},
     "output_type": "execute_result"
    }
   ],
   "source": [
    "###### Verify the changes #######\n",
    "\n",
    "data.head()"
   ]
  },
  {
   "cell_type": "code",
   "execution_count": 315,
   "id": "49db26a3",
   "metadata": {
    "scrolled": true
   },
   "outputs": [
    {
     "data": {
      "image/png": "[encoded data removed]",
      "text/plain": [
       "<Figure size 2000x1000 with 1 Axes>"
      ]
     },
     "metadata": {},
     "output_type": "display_data"
    }
   ],
   "source": [
    "# which brand has max rating \n",
    "\n",
    "plt.figure(figsize = (20,10))\n",
    "sns.barplot(x = 'Brand_Name',\n",
    "            y = 'RATING',            \n",
    "            data = data).set(title = \"Rating vs Brand Name\");\n",
    "plt.xticks(rotation = 90)\n",
    "plt.show()"
   ]
  },
  {
   "cell_type": "code",
   "execution_count": 316,
   "id": "cc792ab1",
   "metadata": {},
   "outputs": [
    {
     "name": "stdout",
     "output_type": "stream",
     "text": [
      "Puma has maximum rating of 4.6\n"
     ]
    }
   ],
   "source": [
    "# PUMA has maximum rating and what is the value?\n",
    "\n",
    "\n",
    "max_rating = data['RATING'].max()\n",
    "brand_max_rating= data.loc[data['RATING'] == data['RATING'].max(), 'Brand_Name'].iloc[0]\n",
    "\n",
    "print(brand_max_rating,'has maximum rating of', max_rating)"
   ]
  },
  {
   "cell_type": "code",
   "execution_count": 317,
   "id": "33c4ca42",
   "metadata": {
    "scrolled": true
   },
   "outputs": [
    {
     "data": {
      "text/html": [
       "<div>\n",
       "<style scoped>\n",
       "    .dataframe tbody tr th:only-of-type {\n",
       "        vertical-align: middle;\n",
       "    }\n",
       "\n",
       "    .dataframe tbody tr th {\n",
       "        vertical-align: top;\n",
       "    }\n",
       "\n",
       "    .dataframe thead th {\n",
       "        text-align: right;\n",
       "    }\n",
       "</style>\n",
       "<table border=\"1\" class=\"dataframe\">\n",
       "  <thead>\n",
       "    <tr style=\"text-align: right;\">\n",
       "      <th></th>\n",
       "      <th>Brand_Name</th>\n",
       "      <th>How_Many_Sold</th>\n",
       "    </tr>\n",
       "  </thead>\n",
       "  <tbody>\n",
       "    <tr>\n",
       "      <th>0</th>\n",
       "      <td>ASIAN</td>\n",
       "      <td>103115</td>\n",
       "    </tr>\n",
       "    <tr>\n",
       "      <th>17</th>\n",
       "      <td>Sparx</td>\n",
       "      <td>45583</td>\n",
       "    </tr>\n",
       "    <tr>\n",
       "      <th>4</th>\n",
       "      <td>Bourge</td>\n",
       "      <td>18747</td>\n",
       "    </tr>\n",
       "    <tr>\n",
       "      <th>5</th>\n",
       "      <td>Campus</td>\n",
       "      <td>14913</td>\n",
       "    </tr>\n",
       "    <tr>\n",
       "      <th>12</th>\n",
       "      <td>Kraasa</td>\n",
       "      <td>7002</td>\n",
       "    </tr>\n",
       "    <tr>\n",
       "      <th>3</th>\n",
       "      <td>BATA</td>\n",
       "      <td>5945</td>\n",
       "    </tr>\n",
       "    <tr>\n",
       "      <th>1</th>\n",
       "      <td>Adidas</td>\n",
       "      <td>5314</td>\n",
       "    </tr>\n",
       "    <tr>\n",
       "      <th>15</th>\n",
       "      <td>Reebok</td>\n",
       "      <td>3114</td>\n",
       "    </tr>\n",
       "    <tr>\n",
       "      <th>8</th>\n",
       "      <td>D Shoes</td>\n",
       "      <td>1490</td>\n",
       "    </tr>\n",
       "    <tr>\n",
       "      <th>13</th>\n",
       "      <td>Nivia</td>\n",
       "      <td>954</td>\n",
       "    </tr>\n",
       "    <tr>\n",
       "      <th>6</th>\n",
       "      <td>Centrino</td>\n",
       "      <td>682</td>\n",
       "    </tr>\n",
       "    <tr>\n",
       "      <th>18</th>\n",
       "      <td>URJO</td>\n",
       "      <td>557</td>\n",
       "    </tr>\n",
       "    <tr>\n",
       "      <th>11</th>\n",
       "      <td>Generic</td>\n",
       "      <td>505</td>\n",
       "    </tr>\n",
       "    <tr>\n",
       "      <th>14</th>\n",
       "      <td>Puma</td>\n",
       "      <td>455</td>\n",
       "    </tr>\n",
       "    <tr>\n",
       "      <th>20</th>\n",
       "      <td>road runner</td>\n",
       "      <td>421</td>\n",
       "    </tr>\n",
       "    <tr>\n",
       "      <th>2</th>\n",
       "      <td>Axter</td>\n",
       "      <td>350</td>\n",
       "    </tr>\n",
       "    <tr>\n",
       "      <th>16</th>\n",
       "      <td>Robbie jones</td>\n",
       "      <td>317</td>\n",
       "    </tr>\n",
       "    <tr>\n",
       "      <th>9</th>\n",
       "      <td>FEETEES</td>\n",
       "      <td>63</td>\n",
       "    </tr>\n",
       "    <tr>\n",
       "      <th>19</th>\n",
       "      <td>Wakefield</td>\n",
       "      <td>49</td>\n",
       "    </tr>\n",
       "    <tr>\n",
       "      <th>7</th>\n",
       "      <td>Corstyle</td>\n",
       "      <td>7</td>\n",
       "    </tr>\n",
       "    <tr>\n",
       "      <th>10</th>\n",
       "      <td>FURO</td>\n",
       "      <td>2</td>\n",
       "    </tr>\n",
       "  </tbody>\n",
       "</table>\n",
       "</div>"
      ],
      "text/plain": [
       "      Brand_Name  How_Many_Sold\n",
       "0          ASIAN         103115\n",
       "17         Sparx          45583\n",
       "4         Bourge          18747\n",
       "5         Campus          14913\n",
       "12        Kraasa           7002\n",
       "3           BATA           5945\n",
       "1         Adidas           5314\n",
       "15        Reebok           3114\n",
       "8        D Shoes           1490\n",
       "13         Nivia            954\n",
       "6       Centrino            682\n",
       "18          URJO            557\n",
       "11       Generic            505\n",
       "14          Puma            455\n",
       "20   road runner            421\n",
       "2          Axter            350\n",
       "16  Robbie jones            317\n",
       "9        FEETEES             63\n",
       "19     Wakefield             49\n",
       "7       Corstyle              7\n",
       "10          FURO              2"
      ]
     },
     "execution_count": 317,
     "metadata": {},
     "output_type": "execute_result"
    }
   ],
   "source": [
    "# which brands are popular\n",
    "\n",
    "most_popular_brand = data.groupby('Brand_Name')[['How_Many_Sold']].sum().reset_index()\n",
    "most_popular_brand_sorted = most_popular_brand.sort_values(by='How_Many_Sold', ascending=False)\n",
    "most_popular_brand_sorted"
   ]
  },
  {
   "cell_type": "code",
   "execution_count": 318,
   "id": "e8e527b9",
   "metadata": {
    "scrolled": true
   },
   "outputs": [
    {
     "data": {
      "image/png": "[encoded data removed]",
      "text/plain": [
       "<Figure size 1000x600 with 1 Axes>"
      ]
     },
     "metadata": {},
     "output_type": "display_data"
    }
   ],
   "source": [
    "\n",
    "\n",
    "plt.figure(figsize=(10, 6))\n",
    "\n",
    "plt.bar(most_popular_brand_sorted['Brand_Name'], most_popular_brand_sorted['How_Many_Sold'])\n",
    "plt.xlabel('Brand Name')\n",
    "plt.ylabel('How Many Sold')\n",
    "plt.title('Most Popular Brand')\n",
    "plt.xticks(rotation=90)  # Rotate the x labels for better readability\n",
    "plt.show()"
   ]
  },
  {
   "cell_type": "code",
   "execution_count": 319,
   "id": "4204c765",
   "metadata": {
    "scrolled": true
   },
   "outputs": [
    {
     "data": {
      "text/html": [
       "<div>\n",
       "<style scoped>\n",
       "    .dataframe tbody tr th:only-of-type {\n",
       "        vertical-align: middle;\n",
       "    }\n",
       "\n",
       "    .dataframe tbody tr th {\n",
       "        vertical-align: top;\n",
       "    }\n",
       "\n",
       "    .dataframe thead th {\n",
       "        text-align: right;\n",
       "    }\n",
       "</style>\n",
       "<table border=\"1\" class=\"dataframe\">\n",
       "  <thead>\n",
       "    <tr style=\"text-align: right;\">\n",
       "      <th></th>\n",
       "      <th>Brand_Name</th>\n",
       "      <th>How_Many_Sold</th>\n",
       "      <th>Current_Price</th>\n",
       "      <th>Product_details</th>\n",
       "      <th>RATING</th>\n",
       "    </tr>\n",
       "  </thead>\n",
       "  <tbody>\n",
       "    <tr>\n",
       "      <th>6</th>\n",
       "      <td>ASIAN</td>\n",
       "      <td>72611</td>\n",
       "      <td>498.0</td>\n",
       "      <td>Men's Wonder-13 Sports Running Shoes</td>\n",
       "      <td>4.0</td>\n",
       "    </tr>\n",
       "  </tbody>\n",
       "</table>\n",
       "</div>"
      ],
      "text/plain": [
       "  Brand_Name  How_Many_Sold  Current_Price  \\\n",
       "6      ASIAN          72611          498.0   \n",
       "\n",
       "                          Product_details  RATING  \n",
       "6  Men's Wonder-13 Sports Running Shoes       4.0  "
      ]
     },
     "execution_count": 319,
     "metadata": {},
     "output_type": "execute_result"
    }
   ],
   "source": [
    "# which brand sold maximum \n",
    "\n",
    "max_shoes_sold = data['How_Many_Sold'].max()\n",
    "max_sold_brand = data.loc[data['How_Many_Sold'] ==  max_shoes_sold]\n",
    "max_sold_brand"
   ]
  },
  {
   "cell_type": "code",
   "execution_count": 320,
   "id": "f6156714",
   "metadata": {
    "scrolled": true
   },
   "outputs": [
    {
     "data": {
      "text/html": [
       "<div>\n",
       "<style scoped>\n",
       "    .dataframe tbody tr th:only-of-type {\n",
       "        vertical-align: middle;\n",
       "    }\n",
       "\n",
       "    .dataframe tbody tr th {\n",
       "        vertical-align: top;\n",
       "    }\n",
       "\n",
       "    .dataframe thead th {\n",
       "        text-align: right;\n",
       "    }\n",
       "</style>\n",
       "<table border=\"1\" class=\"dataframe\">\n",
       "  <thead>\n",
       "    <tr style=\"text-align: right;\">\n",
       "      <th></th>\n",
       "      <th>Brand_Name</th>\n",
       "      <th>How_Many_Sold</th>\n",
       "      <th>Current_Price</th>\n",
       "      <th>Product_details</th>\n",
       "      <th>RATING</th>\n",
       "    </tr>\n",
       "  </thead>\n",
       "  <tbody>\n",
       "    <tr>\n",
       "      <th>59</th>\n",
       "      <td>FURO</td>\n",
       "      <td>2</td>\n",
       "      <td>1299.0</td>\n",
       "      <td>Low Ankle Running Sports Shoes for Men (O-5033)</td>\n",
       "      <td>3.0</td>\n",
       "    </tr>\n",
       "  </tbody>\n",
       "</table>\n",
       "</div>"
      ],
      "text/plain": [
       "   Brand_Name  How_Many_Sold  Current_Price  \\\n",
       "59       FURO              2         1299.0   \n",
       "\n",
       "                                      Product_details  RATING  \n",
       "59  Low Ankle Running Sports Shoes for Men (O-5033)       3.0  "
      ]
     },
     "execution_count": 320,
     "metadata": {},
     "output_type": "execute_result"
    }
   ],
   "source": [
    "\n",
    "# which brand sold minimum \n",
    "\n",
    "least_shoes_sold = data['How_Many_Sold'].min()\n",
    "least_sold_brand = data.loc[data['How_Many_Sold'] ==  least_shoes_sold]\n",
    "least_sold_brand"
   ]
  },
  {
   "cell_type": "code",
   "execution_count": 229,
   "id": "f8b80ef3",
   "metadata": {
    "scrolled": true
   },
   "outputs": [
    {
     "data": {
      "text/html": [
       "<div>\n",
       "<style scoped>\n",
       "    .dataframe tbody tr th:only-of-type {\n",
       "        vertical-align: middle;\n",
       "    }\n",
       "\n",
       "    .dataframe tbody tr th {\n",
       "        vertical-align: top;\n",
       "    }\n",
       "\n",
       "    .dataframe thead th {\n",
       "        text-align: right;\n",
       "    }\n",
       "</style>\n",
       "<table border=\"1\" class=\"dataframe\">\n",
       "  <thead>\n",
       "    <tr style=\"text-align: right;\">\n",
       "      <th></th>\n",
       "      <th>Brand_Name</th>\n",
       "      <th>Current_Price</th>\n",
       "    </tr>\n",
       "  </thead>\n",
       "  <tbody>\n",
       "    <tr>\n",
       "      <th>0</th>\n",
       "      <td>ASIAN</td>\n",
       "      <td>702.090909</td>\n",
       "    </tr>\n",
       "    <tr>\n",
       "      <th>1</th>\n",
       "      <td>Adidas</td>\n",
       "      <td>1884.000000</td>\n",
       "    </tr>\n",
       "    <tr>\n",
       "      <th>2</th>\n",
       "      <td>Axter</td>\n",
       "      <td>231.000000</td>\n",
       "    </tr>\n",
       "    <tr>\n",
       "      <th>3</th>\n",
       "      <td>BATA</td>\n",
       "      <td>832.333333</td>\n",
       "    </tr>\n",
       "    <tr>\n",
       "      <th>4</th>\n",
       "      <td>Bourge</td>\n",
       "      <td>699.000000</td>\n",
       "    </tr>\n",
       "    <tr>\n",
       "      <th>5</th>\n",
       "      <td>Campus</td>\n",
       "      <td>897.916667</td>\n",
       "    </tr>\n",
       "    <tr>\n",
       "      <th>6</th>\n",
       "      <td>Centrino</td>\n",
       "      <td>759.000000</td>\n",
       "    </tr>\n",
       "    <tr>\n",
       "      <th>7</th>\n",
       "      <td>Corstyle</td>\n",
       "      <td>579.000000</td>\n",
       "    </tr>\n",
       "    <tr>\n",
       "      <th>8</th>\n",
       "      <td>D Shoes</td>\n",
       "      <td>649.000000</td>\n",
       "    </tr>\n",
       "    <tr>\n",
       "      <th>9</th>\n",
       "      <td>FEETEES</td>\n",
       "      <td>349.000000</td>\n",
       "    </tr>\n",
       "    <tr>\n",
       "      <th>10</th>\n",
       "      <td>FURO</td>\n",
       "      <td>1299.000000</td>\n",
       "    </tr>\n",
       "    <tr>\n",
       "      <th>11</th>\n",
       "      <td>Generic</td>\n",
       "      <td>345.000000</td>\n",
       "    </tr>\n",
       "    <tr>\n",
       "      <th>12</th>\n",
       "      <td>Kraasa</td>\n",
       "      <td>465.500000</td>\n",
       "    </tr>\n",
       "    <tr>\n",
       "      <th>13</th>\n",
       "      <td>Nivia</td>\n",
       "      <td>855.000000</td>\n",
       "    </tr>\n",
       "    <tr>\n",
       "      <th>14</th>\n",
       "      <td>Puma</td>\n",
       "      <td>779.000000</td>\n",
       "    </tr>\n",
       "    <tr>\n",
       "      <th>15</th>\n",
       "      <td>Reebok</td>\n",
       "      <td>1166.600000</td>\n",
       "    </tr>\n",
       "    <tr>\n",
       "      <th>16</th>\n",
       "      <td>Robbie jones</td>\n",
       "      <td>499.000000</td>\n",
       "    </tr>\n",
       "    <tr>\n",
       "      <th>17</th>\n",
       "      <td>Sparx</td>\n",
       "      <td>979.142857</td>\n",
       "    </tr>\n",
       "    <tr>\n",
       "      <th>18</th>\n",
       "      <td>URJO</td>\n",
       "      <td>839.000000</td>\n",
       "    </tr>\n",
       "    <tr>\n",
       "      <th>19</th>\n",
       "      <td>Wakefield</td>\n",
       "      <td>399.000000</td>\n",
       "    </tr>\n",
       "    <tr>\n",
       "      <th>20</th>\n",
       "      <td>road runner</td>\n",
       "      <td>499.000000</td>\n",
       "    </tr>\n",
       "  </tbody>\n",
       "</table>\n",
       "</div>"
      ],
      "text/plain": [
       "      Brand_Name  Current_Price\n",
       "0          ASIAN     702.090909\n",
       "1         Adidas    1884.000000\n",
       "2          Axter     231.000000\n",
       "3           BATA     832.333333\n",
       "4         Bourge     699.000000\n",
       "5         Campus     897.916667\n",
       "6       Centrino     759.000000\n",
       "7       Corstyle     579.000000\n",
       "8        D Shoes     649.000000\n",
       "9        FEETEES     349.000000\n",
       "10          FURO    1299.000000\n",
       "11       Generic     345.000000\n",
       "12        Kraasa     465.500000\n",
       "13         Nivia     855.000000\n",
       "14          Puma     779.000000\n",
       "15        Reebok    1166.600000\n",
       "16  Robbie jones     499.000000\n",
       "17         Sparx     979.142857\n",
       "18          URJO     839.000000\n",
       "19     Wakefield     399.000000\n",
       "20   road runner     499.000000"
      ]
     },
     "execution_count": 229,
     "metadata": {},
     "output_type": "execute_result"
    }
   ],
   "source": [
    "# average price for each brand \n",
    "\n",
    "average_data = data.dropna()\n",
    "brand_avg_price = average_data.groupby('Brand_Name')[['Current_Price']].mean().reset_index()\n",
    "brand_avg_price"
   ]
  },
  {
   "cell_type": "code",
   "execution_count": 321,
   "id": "ac55790a",
   "metadata": {
    "scrolled": true
   },
   "outputs": [
    {
     "data": {
      "image/png": "[encoded data removed]",
      "text/plain": [
       "<Figure size 1000x600 with 1 Axes>"
      ]
     },
     "metadata": {},
     "output_type": "display_data"
    }
   ],
   "source": [
    "\n",
    "\n",
    "# Calculate the average price for each brand\n",
    "average_price_by_brand = data.groupby('Brand_Name')['Current_Price'].mean().reset_index()\n",
    "\n",
    "# Sort the DataFrame in ascending order by 'Current_Price'\n",
    "average_price_by_brand_sorted = average_price_by_brand.sort_values(by='Current_Price', ascending=True)\n",
    "\n",
    "# Plot the average price by brand\n",
    "plt.figure(figsize=(10, 6))\n",
    "plt.bar(average_price_by_brand_sorted['Brand_Name'], average_price_by_brand_sorted['Current_Price'])\n",
    "plt.xlabel('Brand Name')\n",
    "plt.ylabel('Average Price')\n",
    "plt.title('Average Price by Brand')\n",
    "plt.xticks(rotation=90)  # Rotate the x labels for better readability\n",
    "plt.show()\n",
    "\n",
    "\n"
   ]
  },
  {
   "cell_type": "code",
   "execution_count": 322,
   "id": "3656f4c1",
   "metadata": {},
   "outputs": [
    {
     "data": {
      "text/html": [
       "<div>\n",
       "<style scoped>\n",
       "    .dataframe tbody tr th:only-of-type {\n",
       "        vertical-align: middle;\n",
       "    }\n",
       "\n",
       "    .dataframe tbody tr th {\n",
       "        vertical-align: top;\n",
       "    }\n",
       "\n",
       "    .dataframe thead th {\n",
       "        text-align: right;\n",
       "    }\n",
       "</style>\n",
       "<table border=\"1\" class=\"dataframe\">\n",
       "  <thead>\n",
       "    <tr style=\"text-align: right;\">\n",
       "      <th></th>\n",
       "      <th>Brand_Name</th>\n",
       "      <th>How_Many_Sold</th>\n",
       "      <th>Current_Price</th>\n",
       "      <th>Product_details</th>\n",
       "      <th>RATING</th>\n",
       "    </tr>\n",
       "  </thead>\n",
       "  <tbody>\n",
       "    <tr>\n",
       "      <th>50</th>\n",
       "      <td>Adidas</td>\n",
       "      <td>206</td>\n",
       "      <td>2159.0</td>\n",
       "      <td>Men's Skadi Shoes</td>\n",
       "      <td>4.4</td>\n",
       "    </tr>\n",
       "  </tbody>\n",
       "</table>\n",
       "</div>"
      ],
      "text/plain": [
       "   Brand_Name  How_Many_Sold  Current_Price      Product_details  RATING\n",
       "50     Adidas            206         2159.0  Men's Skadi Shoes       4.4"
      ]
     },
     "execution_count": 322,
     "metadata": {},
     "output_type": "execute_result"
    }
   ],
   "source": [
    "# which brand has most expensive shoe\n",
    "\n",
    "max_shoes_price = data['Current_Price'].max()\n",
    "max_priced_product = data.loc[data['Current_Price'] ==  max_shoes_price]\n",
    "max_priced_product"
   ]
  },
  {
   "cell_type": "code",
   "execution_count": 323,
   "id": "7555027c",
   "metadata": {},
   "outputs": [
    {
     "data": {
      "text/html": [
       "<div>\n",
       "<style scoped>\n",
       "    .dataframe tbody tr th:only-of-type {\n",
       "        vertical-align: middle;\n",
       "    }\n",
       "\n",
       "    .dataframe tbody tr th {\n",
       "        vertical-align: top;\n",
       "    }\n",
       "\n",
       "    .dataframe thead th {\n",
       "        text-align: right;\n",
       "    }\n",
       "</style>\n",
       "<table border=\"1\" class=\"dataframe\">\n",
       "  <thead>\n",
       "    <tr style=\"text-align: right;\">\n",
       "      <th></th>\n",
       "      <th>Brand_Name</th>\n",
       "      <th>How_Many_Sold</th>\n",
       "      <th>Current_Price</th>\n",
       "      <th>Product_details</th>\n",
       "      <th>RATING</th>\n",
       "    </tr>\n",
       "  </thead>\n",
       "  <tbody>\n",
       "    <tr>\n",
       "      <th>34</th>\n",
       "      <td>Axter</td>\n",
       "      <td>350</td>\n",
       "      <td>231.0</td>\n",
       "      <td>Men-9064 Grey Top Best Rates,Sports Shoes,Runn...</td>\n",
       "      <td>3.0</td>\n",
       "    </tr>\n",
       "  </tbody>\n",
       "</table>\n",
       "</div>"
      ],
      "text/plain": [
       "   Brand_Name  How_Many_Sold  Current_Price  \\\n",
       "34      Axter            350          231.0   \n",
       "\n",
       "                                      Product_details  RATING  \n",
       "34  Men-9064 Grey Top Best Rates,Sports Shoes,Runn...     3.0  "
      ]
     },
     "execution_count": 323,
     "metadata": {},
     "output_type": "execute_result"
    }
   ],
   "source": [
    "# which brand has cheapest shoe\n",
    "least_shoes_price = data['Current_Price'].min()\n",
    "least_priced_product = data.loc[data['Current_Price'] ==  least_shoes_price]\n",
    "least_priced_product"
   ]
  },
  {
   "cell_type": "code",
   "execution_count": 270,
   "id": "d4336b21",
   "metadata": {
    "scrolled": false
   },
   "outputs": [
    {
     "data": {
      "image/png": "[encoded data removed]",
      "text/plain": [
       "<Figure size 1600x400 with 3 Axes>"
      ]
     },
     "metadata": {},
     "output_type": "display_data"
    }
   ],
   "source": [
    "#Determine any outlier values(records)for numeric attributes and create box plots \n",
    "\n",
    "\n",
    "\n",
    "# Select numeric attributes\n",
    "numeric_attributes = data.select_dtypes(include=['int64', 'float64']).columns\n",
    "\n",
    "# Calculate the number of rows needed for the subplots\n",
    "\n",
    "num_attributes = len(numeric_attributes)\n",
    "num_rows = (num_attributes // 3) + (num_attributes % 3 > 0)\n",
    "\n",
    "# Create box plots for numeric attributes\n",
    "\n",
    "plt.figure(figsize=(16, 4 * num_rows))\n",
    "for i, column in enumerate(numeric_attributes, 1):\n",
    "    plt.subplot(num_rows, 3, i)\n",
    "    sns.boxplot(x=data[column])\n",
    "    plt.title(f'Box plot for {column}')\n",
    "\n",
    "plt.tight_layout()\n",
    "plt.show()"
   ]
  },
  {
   "cell_type": "code",
   "execution_count": null,
   "id": "fc745628",
   "metadata": {},
   "outputs": [],
   "source": []
  },
  {
   "cell_type": "code",
   "execution_count": 150,
   "id": "115be9ea",
   "metadata": {},
   "outputs": [],
   "source": []
  },
  {
   "cell_type": "code",
   "execution_count": 271,
   "id": "93f58b7f",
   "metadata": {
    "scrolled": true
   },
   "outputs": [
    {
     "name": "stderr",
     "output_type": "stream",
     "text": [
      "/Users/zhila/anaconda3/lib/python3.10/site-packages/seaborn/_oldcore.py:1119: FutureWarning: use_inf_as_na option is deprecated and will be removed in a future version. Convert inf values to NaN before operating instead.\n",
      "  with pd.option_context('mode.use_inf_as_na', True):\n"
     ]
    },
    {
     "data": {
      "image/png": "[encoded data removed]",
      "text/plain": [
       "<Figure size 1000x600 with 1 Axes>"
      ]
     },
     "metadata": {},
     "output_type": "display_data"
    }
   ],
   "source": [
    "plt.figure(figsize=(10,6))\n",
    "sns.histplot(data['How_Many_Sold'], bins=20, kde=True)\n",
    "plt.title('Distribution of Sales')\n",
    "plt.xlabel('Sales')\n",
    "plt.ylabel('Frequency')\n",
    "plt.show()\n"
   ]
  },
  {
   "cell_type": "code",
   "execution_count": 272,
   "id": "132c213a",
   "metadata": {},
   "outputs": [
    {
     "data": {
      "image/png": "[encoded data removed]",
      "text/plain": [
       "<Figure size 1000x600 with 1 Axes>"
      ]
     },
     "metadata": {},
     "output_type": "display_data"
    }
   ],
   "source": [
    "plt.figure(figsize=(10, 6))\n",
    "sns.scatterplot(data=data, x='Current_Price', y='How_Many_Sold')\n",
    "plt.title('Price vs Sales')\n",
    "plt.xlabel('Price')\n",
    "plt.ylabel('Sales')\n",
    "plt.show()\n"
   ]
  },
  {
   "cell_type": "code",
   "execution_count": 273,
   "id": "2eefce5d",
   "metadata": {},
   "outputs": [
    {
     "data": {
      "text/html": [
       "<div>\n",
       "<style scoped>\n",
       "    .dataframe tbody tr th:only-of-type {\n",
       "        vertical-align: middle;\n",
       "    }\n",
       "\n",
       "    .dataframe tbody tr th {\n",
       "        vertical-align: top;\n",
       "    }\n",
       "\n",
       "    .dataframe thead th {\n",
       "        text-align: right;\n",
       "    }\n",
       "</style>\n",
       "<table border=\"1\" class=\"dataframe\">\n",
       "  <thead>\n",
       "    <tr style=\"text-align: right;\">\n",
       "      <th></th>\n",
       "      <th>How_Many_Sold</th>\n",
       "      <th>Current_Price</th>\n",
       "      <th>RATING</th>\n",
       "    </tr>\n",
       "  </thead>\n",
       "  <tbody>\n",
       "    <tr>\n",
       "      <th>How_Many_Sold</th>\n",
       "      <td>1.000000</td>\n",
       "      <td>-0.156226</td>\n",
       "      <td>0.130459</td>\n",
       "    </tr>\n",
       "    <tr>\n",
       "      <th>Current_Price</th>\n",
       "      <td>-0.156226</td>\n",
       "      <td>1.000000</td>\n",
       "      <td>0.452585</td>\n",
       "    </tr>\n",
       "    <tr>\n",
       "      <th>RATING</th>\n",
       "      <td>0.130459</td>\n",
       "      <td>0.452585</td>\n",
       "      <td>1.000000</td>\n",
       "    </tr>\n",
       "  </tbody>\n",
       "</table>\n",
       "</div>"
      ],
      "text/plain": [
       "               How_Many_Sold  Current_Price    RATING\n",
       "How_Many_Sold       1.000000      -0.156226  0.130459\n",
       "Current_Price      -0.156226       1.000000  0.452585\n",
       "RATING              0.130459       0.452585  1.000000"
      ]
     },
     "execution_count": 273,
     "metadata": {},
     "output_type": "execute_result"
    }
   ],
   "source": [
    "# Select only numerical columns\n",
    "\n",
    "correlation_matrix = numeric_data.corr()\n",
    "correlation_matrix"
   ]
  },
  {
   "cell_type": "code",
   "execution_count": null,
   "id": "a2ce8af4",
   "metadata": {},
   "outputs": [],
   "source": [
    "### Higher prices correlate slightly with fewer sales.\n",
    "### Products with higher ratings tend to sell slightly more.\n",
    "### There's a moderate correlation between higher prices and higher ratings, suggesting perceived quality or value."
   ]
  },
  {
   "cell_type": "code",
   "execution_count": null,
   "id": "69228265",
   "metadata": {},
   "outputs": [],
   "source": []
  },
  {
   "cell_type": "code",
   "execution_count": 274,
   "id": "81b7da35",
   "metadata": {},
   "outputs": [
    {
     "data": {
      "image/png": "[encoded data removed]",
      "text/plain": [
       "<Figure size 800x500 with 2 Axes>"
      ]
     },
     "metadata": {},
     "output_type": "display_data"
    }
   ],
   "source": [
    "# Plot correlation matrix\n",
    "plt.figure(figsize=(8,5))\n",
    "sns.heatmap(correlation_matrix, annot=True, cmap='coolwarm', fmt=\".2f\")\n",
    "plt.title('Correlation Matrix')\n",
    "plt.show()\n"
   ]
  },
  {
   "cell_type": "code",
   "execution_count": 275,
   "id": "49c65b6b",
   "metadata": {},
   "outputs": [
    {
     "name": "stdout",
     "output_type": "stream",
     "text": [
      "Mean Price: 842.97\n",
      "Total Sales: 209585\n",
      "Mean Rating: 3.83\n"
     ]
    }
   ],
   "source": [
    "######    Performance Metrics Development and Analysis ########\n",
    "\n",
    "\n",
    "# Example metrics\n",
    "mean_price = data['Current_Price'].mean()\n",
    "total_sales = data['How_Many_Sold'].sum()\n",
    "mean_rating = data['RATING'].mean()\n",
    "\n",
    "print(f\"Mean Price: {mean_price:.2f}\")\n",
    "print(f\"Total Sales: {total_sales}\")\n",
    "print(f\"Mean Rating: {mean_rating:.2f}\")\n"
   ]
  },
  {
   "cell_type": "code",
   "execution_count": 177,
   "id": "3cb6b5c1",
   "metadata": {},
   "outputs": [],
   "source": [
    " #########  prediction with  Machine Learning Techniques #########\n",
    "    \n",
    "# 1) Regression Analysis  \n",
    "# 2) Gradient Boosting Regressor\n",
    "# 3) RandomForestRegressor\n",
    "# 4)  XGBoost"
   ]
  },
  {
   "cell_type": "code",
   "execution_count": 276,
   "id": "276708f9",
   "metadata": {
    "scrolled": true
   },
   "outputs": [
    {
     "name": "stdout",
     "output_type": "stream",
     "text": [
      "Mean Squared Error: 49406986.44\n",
      "R-squared: -0.92\n"
     ]
    }
   ],
   "source": [
    "\n",
    "#1 ) Regression Analysis \n",
    "\n",
    "# Define features (X) and target variable (y)\n",
    "X = data[['Current_Price', 'RATING']]\n",
    "y = data['How_Many_Sold']\n",
    "\n",
    "# Split data into training and testing sets\n",
    "from sklearn.model_selection import train_test_split\n",
    "X_train, X_test, y_train, y_test = train_test_split(X, y, test_size=0.2, random_state=42)\n",
    "\n",
    "# Train the model\n",
    "model = LinearRegression()\n",
    "model.fit(X_train, y_train)\n",
    "\n",
    "# Evaluate the model\n",
    "from sklearn.metrics import mean_squared_error, r2_score\n",
    "y_pred = model.predict(X_test)\n",
    "mse = mean_squared_error(y_test, y_pred)\n",
    "r2 = r2_score(y_test, y_pred)\n",
    "\n",
    "print(f\"Mean Squared Error: {mse:.2f}\")\n",
    "print(f\"R-squared: {r2:.2f}\")\n",
    "    "
   ]
  },
  {
   "cell_type": "code",
   "execution_count": null,
   "id": "b3435c17",
   "metadata": {},
   "outputs": [],
   "source": [
    "### The regression model has a high mean squared error and a negative R-squared value, \n",
    "### indicating poor performance in predicting shoe sales based on the provided features."
   ]
  },
  {
   "cell_type": "code",
   "execution_count": 277,
   "id": "8712cd3f",
   "metadata": {},
   "outputs": [],
   "source": []
  },
  {
   "cell_type": "code",
   "execution_count": 279,
   "id": "a8f95627",
   "metadata": {},
   "outputs": [
    {
     "name": "stdout",
     "output_type": "stream",
     "text": [
      "Mean Squared Error: 41837776.840269394\n",
      "R-squared: -0.63\n"
     ]
    }
   ],
   "source": [
    "# 2)  Initialize Gradient Boosting Regressor\n",
    "\n",
    "\n",
    "\n",
    "#Select features and target variable\n",
    "X = data[['Current_Price', 'RATING']]\n",
    "y = data['How_Many_Sold']\n",
    "\n",
    "# Split the data into training and testing sets\n",
    "X_train, X_test, y_train, y_test = train_test_split(X, y, test_size=0.2, random_state=42)\n",
    "\n",
    "# Initialize Gradient Boosting Regressor\n",
    "gb_regressor = GradientBoostingRegressor(random_state=42)\n",
    "\n",
    "# Fit the model on the training data\n",
    "gb_regressor.fit(X_train, y_train)\n",
    "\n",
    "# Predict on the test data\n",
    "y_pred = gb_regressor.predict(X_test)\n",
    "\n",
    "# Evaluate model performance\n",
    "\n",
    "mse = mean_squared_error(y_test, y_pred)\n",
    "r2 = r2_score(y_test, y_pred)\n",
    "\n",
    "print(\"Mean Squared Error:\", mse)\n",
    "print(f\"R-squared: {r2:.2f}\")"
   ]
  },
  {
   "cell_type": "code",
   "execution_count": 237,
   "id": "26e1e9b8",
   "metadata": {},
   "outputs": [
    {
     "name": "stdout",
     "output_type": "stream",
     "text": [
      "Mean Squared Error: 39787743.94812171\n",
      "R-squared: -0.55\n"
     ]
    }
   ],
   "source": [
    "\n",
    "# 3)  Initialize Random Forest Regressor\n",
    "\n",
    "\n",
    "from sklearn.ensemble import RandomForestRegressor\n",
    "from sklearn.model_selection import train_test_split\n",
    "from sklearn.metrics import mean_squared_error\n",
    "\n",
    "# Select features and target variable\n",
    "X = data[['Current_Price', 'RATING']]\n",
    "y = data['How_Many_Sold']\n",
    "\n",
    "# Split the data into training and testing sets\n",
    "X_train, X_test, y_train, y_test = train_test_split(X, y, test_size=0.2, random_state=42)\n",
    "\n",
    "# Initialize Random Forest Regressor\n",
    "rf_regressor = RandomForestRegressor(random_state=42)\n",
    "\n",
    "# Fit the model on the training data\n",
    "rf_regressor.fit(X_train, y_train)\n",
    "\n",
    "# Predict on the test data\n",
    "y_pred = rf_regressor.predict(X_test)\n",
    "\n",
    "# Evaluate model performance\n",
    "\n",
    "mse = mean_squared_error(y_test, y_pred)\n",
    "r2 = r2_score(y_test, y_pred)\n",
    "print(\"Mean Squared Error:\", mse)\n",
    "print(f\"R-squared: {r2:.2f}\")"
   ]
  },
  {
   "cell_type": "code",
   "execution_count": 283,
   "id": "4341284c",
   "metadata": {
    "scrolled": true
   },
   "outputs": [
    {
     "name": "stdout",
     "output_type": "stream",
     "text": [
      "XGBoost Mean Squared Error: 32745809.93855423\n",
      "XGBoost R-squared: -0.27\n"
     ]
    }
   ],
   "source": [
    "# 4)  Initialize using XGBoost\n",
    "\n",
    "# Encode categorical variables\n",
    "categorical_variables = ['Brand_Name', 'Product_details']\n",
    "data_encoded = pd.get_dummies(data, columns=categorical_variables, drop_first=True)\n",
    "\n",
    "# Define features (X) and target variable (y)\n",
    "X = data_encoded[['Current_Price', 'RATING'] + [col for col in data_encoded.columns if col.startswith('Brand_Name_') or col.startswith('Product_details_')]]\n",
    "y = data_encoded['How_Many_Sold']\n",
    "\n",
    "# Split the data into training and testing sets\n",
    "X_train, X_test, y_train, y_test = train_test_split(X, y, test_size=0.2, random_state=42)\n",
    "\n",
    "# Initialize XGBoost Regressor\n",
    "xgb_regressor = XGBRegressor(random_state=42)\n",
    "\n",
    "# Fit the model on the training data\n",
    "xgb_regressor.fit(X_train, y_train)\n",
    "\n",
    "# Predict on the test data\n",
    "y_pred = xgb_regressor.predict(X_test)\n",
    "\n",
    "# Evaluate model performance\n",
    "mse = mean_squared_error(y_test, y_pred)\n",
    "r2 = r2_score(y_test, y_pred)\n",
    "\n",
    "print(\"XGBoost Mean Squared Error:\", mse)\n",
    "print(f\"XGBoost R-squared: {r2:.2f}\")\n",
    "\n"
   ]
  },
  {
   "cell_type": "code",
   "execution_count": 329,
   "id": "a85357b8",
   "metadata": {},
   "outputs": [
    {
     "name": "stdout",
     "output_type": "stream",
     "text": [
      "\n",
      "Conclusion:\n",
      "The XGBoost model is a better model here.\n",
      "It has lower Mean Squared Error (MSE) and higher R-squared values, indicating stronger predictive capability.\n"
     ]
    }
   ],
   "source": [
    "# Conclusion\n",
    "\n",
    "print(\"\\nConclusion:\")\n",
    "print(\"The XGBoost model is a better model here.\")\n",
    "print(\"It has lower Mean Squared Error (MSE) and higher R-squared values, indicating stronger predictive capability.\")\n"
   ]
  },
  {
   "cell_type": "code",
   "execution_count": 288,
   "id": "eec08977",
   "metadata": {},
   "outputs": [],
   "source": [
    "# adding  'Predicted_Sales' column to capture model predictions\n",
    "# adding  'Pricing_Strategy'column to categorize products based on their predicted sales\n",
    "\n",
    "\n",
    "data['Predicted_Sales'] = xgb_regressor.predict(X)\n",
    "\n",
    "# Determine the median of the predicted sales\n",
    "median_predicted_sales = data['Predicted_Sales'].median()\n",
    "\n",
    "# Determine pricing strategy based on predicted sales\n",
    "data['Pricing_Strategy'] = ['High' if sales > median_predicted_sales else 'Low' for sales in data['Predicted_Sales']]\n"
   ]
  },
  {
   "cell_type": "code",
   "execution_count": 292,
   "id": "99feb88e",
   "metadata": {
    "scrolled": false
   },
   "outputs": [
    {
     "data": {
      "text/html": [
       "<div>\n",
       "<style scoped>\n",
       "    .dataframe tbody tr th:only-of-type {\n",
       "        vertical-align: middle;\n",
       "    }\n",
       "\n",
       "    .dataframe tbody tr th {\n",
       "        vertical-align: top;\n",
       "    }\n",
       "\n",
       "    .dataframe thead th {\n",
       "        text-align: right;\n",
       "    }\n",
       "</style>\n",
       "<table border=\"1\" class=\"dataframe\">\n",
       "  <thead>\n",
       "    <tr style=\"text-align: right;\">\n",
       "      <th></th>\n",
       "      <th>Brand_Name</th>\n",
       "      <th>How_Many_Sold</th>\n",
       "      <th>Current_Price</th>\n",
       "      <th>Product_details</th>\n",
       "      <th>RATING</th>\n",
       "      <th>Predicted_Sales</th>\n",
       "      <th>Pricing_Strategy</th>\n",
       "    </tr>\n",
       "  </thead>\n",
       "  <tbody>\n",
       "    <tr>\n",
       "      <th>0</th>\n",
       "      <td>ASIAN</td>\n",
       "      <td>2242</td>\n",
       "      <td>1098.0</td>\n",
       "      <td>Oxygen-01 Sports Running,Walking &amp; Gym Shoes w...</td>\n",
       "      <td>3.8</td>\n",
       "      <td>98.537003</td>\n",
       "      <td>Low</td>\n",
       "    </tr>\n",
       "    <tr>\n",
       "      <th>1</th>\n",
       "      <td>ASIAN</td>\n",
       "      <td>240</td>\n",
       "      <td>674.0</td>\n",
       "      <td>Men's Express-08 Sports Running,Walking,Gym,Tr...</td>\n",
       "      <td>4.0</td>\n",
       "      <td>244.023270</td>\n",
       "      <td>Low</td>\n",
       "    </tr>\n",
       "    <tr>\n",
       "      <th>2</th>\n",
       "      <td>ASIAN</td>\n",
       "      <td>16662</td>\n",
       "      <td>588.0</td>\n",
       "      <td>Men's Cosko Sports Running,Walking,Gym,Trainin...</td>\n",
       "      <td>3.8</td>\n",
       "      <td>16658.156250</td>\n",
       "      <td>High</td>\n",
       "    </tr>\n",
       "    <tr>\n",
       "      <th>3</th>\n",
       "      <td>ASIAN</td>\n",
       "      <td>135</td>\n",
       "      <td>599.0</td>\n",
       "      <td>Wind-03 Sports Running,Walking &amp; Gym Shoes wit...</td>\n",
       "      <td>4.0</td>\n",
       "      <td>1083.218750</td>\n",
       "      <td>High</td>\n",
       "    </tr>\n",
       "    <tr>\n",
       "      <th>4</th>\n",
       "      <td>Reebok</td>\n",
       "      <td>240</td>\n",
       "      <td>982.0</td>\n",
       "      <td>Men's Velocity Runner Lp Running Shoe</td>\n",
       "      <td>4.0</td>\n",
       "      <td>243.557343</td>\n",
       "      <td>Low</td>\n",
       "    </tr>\n",
       "    <tr>\n",
       "      <th>5</th>\n",
       "      <td>Puma</td>\n",
       "      <td>455</td>\n",
       "      <td>779.0</td>\n",
       "      <td>Men's Softride Enzo Nxt Walking Shoe</td>\n",
       "      <td>4.6</td>\n",
       "      <td>2134.082275</td>\n",
       "      <td>High</td>\n",
       "    </tr>\n",
       "    <tr>\n",
       "      <th>6</th>\n",
       "      <td>ASIAN</td>\n",
       "      <td>72611</td>\n",
       "      <td>498.0</td>\n",
       "      <td>Men's Wonder-13 Sports Running Shoes</td>\n",
       "      <td>4.0</td>\n",
       "      <td>72607.031250</td>\n",
       "      <td>High</td>\n",
       "    </tr>\n",
       "    <tr>\n",
       "      <th>7</th>\n",
       "      <td>Generic</td>\n",
       "      <td>84</td>\n",
       "      <td>298.0</td>\n",
       "      <td>Men's Mesh Lace-Ups Running/Walking/Gym/Sports...</td>\n",
       "      <td>2.4</td>\n",
       "      <td>84.605316</td>\n",
       "      <td>Low</td>\n",
       "    </tr>\n",
       "    <tr>\n",
       "      <th>8</th>\n",
       "      <td>Sparx</td>\n",
       "      <td>1795</td>\n",
       "      <td>880.0</td>\n",
       "      <td>Men's Sm-677 Running Shoe</td>\n",
       "      <td>4.0</td>\n",
       "      <td>1791.719727</td>\n",
       "      <td>High</td>\n",
       "    </tr>\n",
       "    <tr>\n",
       "      <th>9</th>\n",
       "      <td>Generic</td>\n",
       "      <td>309</td>\n",
       "      <td>439.0</td>\n",
       "      <td>B.R.K. Men's Denim Casual Shoe</td>\n",
       "      <td>3.6</td>\n",
       "      <td>312.850159</td>\n",
       "      <td>Low</td>\n",
       "    </tr>\n",
       "  </tbody>\n",
       "</table>\n",
       "</div>"
      ],
      "text/plain": [
       "  Brand_Name  How_Many_Sold  Current_Price  \\\n",
       "0      ASIAN           2242         1098.0   \n",
       "1      ASIAN            240          674.0   \n",
       "2      ASIAN          16662          588.0   \n",
       "3      ASIAN            135          599.0   \n",
       "4     Reebok            240          982.0   \n",
       "5       Puma            455          779.0   \n",
       "6      ASIAN          72611          498.0   \n",
       "7    Generic             84          298.0   \n",
       "8      Sparx           1795          880.0   \n",
       "9    Generic            309          439.0   \n",
       "\n",
       "                                     Product_details  RATING  Predicted_Sales  \\\n",
       "0  Oxygen-01 Sports Running,Walking & Gym Shoes w...     3.8        98.537003   \n",
       "1  Men's Express-08 Sports Running,Walking,Gym,Tr...     4.0       244.023270   \n",
       "2  Men's Cosko Sports Running,Walking,Gym,Trainin...     3.8     16658.156250   \n",
       "3  Wind-03 Sports Running,Walking & Gym Shoes wit...     4.0      1083.218750   \n",
       "4            Men's Velocity Runner Lp Running Shoe       4.0       243.557343   \n",
       "5             Men's Softride Enzo Nxt Walking Shoe       4.6      2134.082275   \n",
       "6             Men's Wonder-13 Sports Running Shoes       4.0     72607.031250   \n",
       "7  Men's Mesh Lace-Ups Running/Walking/Gym/Sports...     2.4        84.605316   \n",
       "8                        Men's Sm-677 Running Shoe       4.0      1791.719727   \n",
       "9                   B.R.K. Men's Denim Casual Shoe       3.6       312.850159   \n",
       "\n",
       "  Pricing_Strategy  \n",
       "0              Low  \n",
       "1              Low  \n",
       "2             High  \n",
       "3             High  \n",
       "4              Low  \n",
       "5             High  \n",
       "6             High  \n",
       "7              Low  \n",
       "8             High  \n",
       "9              Low  "
      ]
     },
     "execution_count": 292,
     "metadata": {},
     "output_type": "execute_result"
    }
   ],
   "source": [
    "# verify the changes \n",
    "data.head(10)"
   ]
  },
  {
   "cell_type": "code",
   "execution_count": 333,
   "id": "5304470f",
   "metadata": {},
   "outputs": [
    {
     "name": "stdout",
     "output_type": "stream",
     "text": [
      "\n",
      "Conclusion:\n",
      "By analyzing the table, we can determine which products are expected to perform better (High pricing strategy),\n",
      "we can adjust the marketing, inventory, and pricing strategies accordingly to maximize revenue and manage resources efficiently.\n"
     ]
    }
   ],
   "source": [
    "print(\"\\nConclusion:\")\n",
    "\n",
    "print(\"\"\"By analyzing the table, we can determine which products are expected to perform better (High pricing strategy),\n",
    "we can adjust the marketing, inventory, and pricing strategies accordingly to maximize revenue and manage resources efficiently.\"\"\")\n",
    "\n"
   ]
  },
  {
   "cell_type": "code",
   "execution_count": null,
   "id": "ec086bc5",
   "metadata": {},
   "outputs": [],
   "source": []
  }
 ],
 "metadata": {
  "kernelspec": {
   "display_name": "Python 3 (ipykernel)",
   "language": "python",
   "name": "python3"
  },
  "language_info": {
   "codemirror_mode": {
    "name": "ipython",
    "version": 3
   },
   "file_extension": ".py",
   "mimetype": "text/x-python",
   "name": "python",
   "nbconvert_exporter": "python",
   "pygments_lexer": "ipython3",
   "version": "3.10.14"
  }
 },
 "nbformat": 4,
 "nbformat_minor": 5
}
